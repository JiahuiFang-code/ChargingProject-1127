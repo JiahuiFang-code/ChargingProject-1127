{
 "cells": [
  {
   "cell_type": "markdown",
   "id": "d129331a",
   "metadata": {},
   "source": [
    "# Charging Model"
   ]
  },
  {
   "cell_type": "code",
   "execution_count": 2,
   "id": "9628475d",
   "metadata": {},
   "outputs": [],
   "source": [
    "# 导入模块\n",
    "import xpress as xp\n",
    "import numpy as np\n",
    "import pandas as pd"
   ]
  },
  {
   "cell_type": "code",
   "execution_count": 3,
   "id": "8163a358",
   "metadata": {},
   "outputs": [],
   "source": [
    "# Create a problem called myproblem\n",
    "\n",
    "prob = xp.problem(name='charging')"
   ]
  },
  {
   "cell_type": "code",
   "execution_count": 4,
   "id": "f75727fd",
   "metadata": {},
   "outputs": [],
   "source": [
    "# Set index\n",
    "number_of_types = 3 # i: 1..3\n",
    "types = range(number_of_types)\n",
    "\n",
    "number_of_years = 5 # Time t: 1..4 0..4\n",
    "years = range(number_of_years)\n",
    "number_of_years2 = number_of_years \n",
    "number_of_grids = 434 # grid g: 1..434\n",
    "grids = range(number_of_grids)\n"
   ]
  },
  {
   "cell_type": "code",
   "execution_count": 5,
   "id": "85ae882d",
   "metadata": {},
   "outputs": [],
   "source": [
    "# Define our decision variable as a numpy array\n",
    "# 设置变量\n",
    "x1 = np.array([xp.var( name='x1_{0}_{1}_{2}'.format(i+1,g+1,t),vartype = xp.integer)\n",
    "                    for i in types for g in grids for t in years], dtype=xp.npvar).reshape(number_of_types,number_of_grids,number_of_years)\n",
    "x2 = np.array([xp.var( name='x2_{0}_{1}_{2}'.format(i+1,g+1,t),vartype = xp.integer)\n",
    "                    for i in types for g in grids for t in years], dtype=xp.npvar).reshape(number_of_types,number_of_grids,number_of_years)\n",
    "x = np.array([xp.var( name='x_{0}_{1}_{2}'.format(i+1,g+1,t),vartype = xp.integer)\n",
    "                    for i in types for g in grids for t in years], dtype=xp.npvar).reshape(number_of_types,number_of_grids,number_of_years2)\n",
    "# x = x1 + x2\n",
    "z = np.array([xp.var( name='z_{0}_{1}'.format(g+1,t),vartype = xp.binary)\n",
    "                    for g in grids for t in years], dtype=xp.npvar).reshape(number_of_grids,number_of_years)\n",
    "\n",
    "x2 = np.array([xp.var( name='x2_{0}_{1}_{2}'.format(i+1,g+1,t),vartype = xp.integer)\n",
    "                    for i in types for g in grids for t in years], dtype=xp.npvar).reshape(number_of_types,number_of_grids,number_of_years)\n",
    "\n",
    "y = np.array([xp.var( name='y_{0}_{1}'.format(g+1,t),vartype = xp.integer)\n",
    "                    for g in grids for t in years], dtype=xp.npvar).reshape(number_of_grids,number_of_years)\n",
    "\n",
    "prob.addVariable(x1,x2,x,z)"
   ]
  },
  {
   "cell_type": "code",
   "execution_count": null,
   "id": "0417aac5",
   "metadata": {},
   "outputs": [],
   "source": []
  },
  {
   "cell_type": "code",
   "execution_count": 6,
   "id": "60056c37",
   "metadata": {},
   "outputs": [],
   "source": [
    "# read data from files\n",
    "pot_char_poi = pd.read_excel('Project_data/Potential_charging_points.xlsx')\n",
    "intere_poi = pd.read_excel('Project_data/Interest _points.xlsx')\n",
    "demand = pd.read_excel('Project_data/Demand_data.xlsx')\n",
    "char_poi =  pd.read_excel('Project_data/Charging_points.xlsx')\n"
   ]
  },
  {
   "cell_type": "code",
   "execution_count": 7,
   "id": "91b2183d",
   "metadata": {},
   "outputs": [],
   "source": [
    "#  Coefficient\n",
    "# 设置参数\n",
    "c = np.array(types) # building cost for charging point of type i\n",
    "c = [1,1,1] # 可以修改\n",
    "\n",
    "r = np.array(types) # the reduced building cost for charging point of type i\n",
    "r = [0.8,0.8,0.8] # 可以修改\n",
    "\n",
    "L = np.array(types) # the lower bound of proportion for type i charging point\n",
    "L = [0.3,0.3,0.3]\n",
    "\n",
    "Mit = np.array(types) # the higher bound of proportion for type i charging point\n",
    "Mit = [0.9,0.9,0.9]\n",
    "\n",
    "U = np.array(types) # the Upper bound of proportion for type i charging point ????\n",
    "U = [0.6,0.6,0.6]\n",
    "\n",
    "B = np.array(grids) # 每个grid 只能放这么多个charger，虽然我不是很理解,不应该每个location限制charger，每个grid限制的chrger等于location*这个数吗。。\n",
    "for i in B:\n",
    "    i = 10 # 暂定\n",
    "\n",
    "T = 10 # the maximal number of station point in the centre of city : 可以自己定\n",
    "\n",
    "N = 10 # lower bound of interest point in the neighbourhood : 可以自己定\n",
    "\n",
    "TS = 0.9 # satisfaction proportion of for the total demand : 可以自己定\n",
    "\n",
    "Mg = 0.9 # satisfaction proportion of for the demand in gird g : 可以自己定\n",
    "\n",
    "# demand in region grid g in year t\n",
    "\n",
    "Pi1 = np.array(years) # the minimum demand type i can provide per year\n",
    "Pi1 = [2000,4000,30000]\n",
    "Pi = np.array(years) # the maximum demand type i can provide per year # 这个后面好像没用到..\n",
    "Pi = [3500,5200,55000]"
   ]
  },
  {
   "cell_type": "code",
   "execution_count": 8,
   "id": "5e768a9e",
   "metadata": {},
   "outputs": [
    {
     "name": "stdout",
     "output_type": "stream",
     "text": [
      "(434, 4)\n"
     ]
    }
   ],
   "source": [
    "Dgt = np.array(demand[['Demand_0','Demand_1','Demand_2','Demand_3']])\n",
    "print(Dgt.shape)"
   ]
  },
  {
   "cell_type": "code",
   "execution_count": 9,
   "id": "f6340446",
   "metadata": {},
   "outputs": [
    {
     "name": "stdout",
     "output_type": "stream",
     "text": [
      "200    18\n",
      "186    15\n",
      "89     13\n",
      "199    13\n",
      "103    11\n",
      "       ..\n",
      "144     1\n",
      "101     1\n",
      "291     1\n",
      "160     1\n",
      "331     1\n",
      "Name: grid number, Length: 98, dtype: int64\n"
     ]
    }
   ],
   "source": [
    "# 得到grid对应的potential locations\n",
    "# Pg: the number of potential locations in the grid square\n",
    "pg = (pot_char_poi['grid number'].value_counts())\n",
    "Pg = np.zeros(number_of_grids) \n",
    "print(pg)\n",
    "for i in pg.index:\n",
    "    Pg[i-1] = pg[i]"
   ]
  },
  {
   "cell_type": "code",
   "execution_count": 10,
   "id": "2d2244dc",
   "metadata": {},
   "outputs": [],
   "source": [
    "y = np.array([xp.var( name='y_{0}_{1}'.format(g+1,t),vartype = xp.integer)\n",
    "                    for g in grids for t in years], dtype=xp.npvar).reshape(number_of_grids,number_of_years)\n",
    "\n",
    "prob.addVariable(y)"
   ]
  },
  {
   "cell_type": "code",
   "execution_count": 11,
   "id": "d40b40fa",
   "metadata": {},
   "outputs": [
    {
     "name": "stdout",
     "output_type": "stream",
     "text": [
      "0     0\n",
      "1     1\n",
      "2     0\n",
      "3     0\n",
      "4     1\n",
      "     ..\n",
      "73    0\n",
      "74    0\n",
      "75    0\n",
      "76    0\n",
      "77    1\n",
      "Name: Type, Length: 78, dtype: int64\n"
     ]
    }
   ],
   "source": [
    "# 把第一年前已经建好charger的加入变量中\n",
    "# number of charging point of type i in potential location j which has been established in year 1\n",
    "# trans_type = []\n",
    "# for i in char_poi['Type']:\n",
    "#     if i == 'Slow':\n",
    "#         trans_type.append(3)\n",
    "#     elif i == 'Fast':\n",
    "#         trans_type.append(3)\n",
    "#     elif i == 'Rapid':\n",
    "#         trans_type.append(3)\n",
    "# exit_charger = pd.DataFrame({'Type':trans_type,'Grid':char_poi['grid number']})\n",
    "char_poi['Type'].replace('Slow',0,inplace = True)\n",
    "char_poi['Type'].replace('Fast',1,inplace = True)\n",
    "char_poi['Type'].replace('Rapid',2,inplace = True)\n",
    "# print(trans_type)\n",
    "print(char_poi['Type'])\n",
    "\n",
    "for i in types:\n",
    "    for g in grids:\n",
    "        if g+1 in list(char_poi['grid number']):\n",
    "            prob.addConstraint( x[i,g,0] == char_poi[(char_poi.Type == i)&(char_poi['grid number'] == g+1)].shape[0])\n",
    "        else:\n",
    "            prob.addConstraint(x[i,g,0] == 0)\n",
    "\n",
    "# prob.addConstraint(x[i,g,0] == len(exit_charger[(exit_charger['Type']==i)&(exit_charger['Grid']==g+1)]) \n",
    "#                    for i in types for g in grids)"
   ]
  },
  {
   "cell_type": "code",
   "execution_count": 12,
   "id": "8016f0a3",
   "metadata": {},
   "outputs": [],
   "source": [
    "M = 10000"
   ]
  },
  {
   "cell_type": "code",
   "execution_count": 13,
   "id": "7c50aadb",
   "metadata": {},
   "outputs": [],
   "source": [
    "# 每年新建的 = 未开始使用的location新建charger数量 + 已开始使用的新建charger数量\n",
    "prob.addConstraint(x[i,g,t] == x1[i,g,t] + x2[i,g,t] for i in types for g in grids for t in years)        \n",
    "\n",
    "# y和x的关系 y(g,t) = 过去每一年的x......\n",
    "for t in years:\n",
    "    if t >0:\n",
    "        for g in grids:\n",
    "            prob.addConstraint(y[g,t] == xp.Sum(x[i,g,t1] for i in types for t1 in years if t1<=t-1 ))\n",
    "    else:\n",
    "        for g in grids:\n",
    "            prob.addConstraint(y[g,t] == 0 )\n",
    "for t in years:\n",
    "    if t>0:\n",
    "        for g in grids:\n",
    "            for i in types:\n",
    "                prob.addConstraint(M*z[g,t]>=y[g,t]  for g in grids )\n",
    "                prob.addConstraint(y[g,t] >= z[g,t] for g in grids )\n",
    "                prob.addConstraint(x1[i,g,t] <= M*z[g,t] for g in grids )\n",
    "                prob.addConstraint(x2[i,g,t] <= M*(1-z[g,t]) for g in grids )\n",
    "# for g in grids:\n",
    "#     prob.addConstraint(y[g,0] == xp.Sum(x[i,g,0] for i in types) + xp.Sum(x[i,g,1] for i in types))\n",
    "#     prob.addConstraint(y[g,1] == y[g,0] + xp.Sum(x[i,g,2] for i in types))\n",
    "#     prob.addConstraint(y[g,2] == y[g,1] + xp.Sum(x[i,g,3] for i in types))\n",
    "#     prob.addConstraint(y[g,3] == y[g,2] + xp.Sum(x[i,g,4] for i in types))\n",
    "\n",
    "# for g in grids:\n",
    "#     t = 0\n",
    "#     while t <= 3: \n",
    "#         prob.addConstraint(y[g,t] == xp.Sum(x[i,g,t1] for t1 in range(t+2) for i in types))\n",
    "#         t = t + 1"
   ]
  },
  {
   "cell_type": "code",
   "execution_count": 14,
   "id": "f87d86cf",
   "metadata": {},
   "outputs": [],
   "source": [
    "# 大M \n",
    "\n",
    "\n"
   ]
  },
  {
   "cell_type": "code",
   "execution_count": null,
   "id": "0d6ae136",
   "metadata": {},
   "outputs": [],
   "source": []
  },
  {
   "cell_type": "code",
   "execution_count": 15,
   "id": "14c4118f",
   "metadata": {},
   "outputs": [],
   "source": [
    "# 每年设施比例(每类充电桩/所有充电桩的比例): 这里我看公式的角标感到十分混乱。。。。\n",
    "for i in types:\n",
    "    for t in years:\n",
    "        if t>0:\n",
    "            prob.addConstraint(L[i]*xp.Sum(x[i1,g,t1] for i1 in types for g in grids for t1 in years if t1<=t) <= \n",
    "                          xp.Sum(x[i,g,t1] for g in grids for t1 in years if t1 <=t))\n",
    "            prob.addConstraint(Mit[i]*xp.Sum(x[i1,g,t1] for i1 in types for g in grids for t1 in years if t1<=t) >= \n",
    "                          xp.Sum(x[i,g,t1] for g in grids for t1 in years if t1<=t))\n"
   ]
  },
  {
   "cell_type": "code",
   "execution_count": 16,
   "id": "2a62e9e8",
   "metadata": {},
   "outputs": [
    {
     "name": "stdout",
     "output_type": "stream",
     "text": [
      "[214 213 228 227 200 199 215 212 229 226 201 198]\n"
     ]
    }
   ],
   "source": [
    "#中心区域数量限制\n",
    "distance = demand['Distance from Centre'].copy()\n",
    "distance.sort_values(inplace = True)\n",
    "center = distance[distance <= 1000]\n",
    "center_grid = np.array(center.index)\n",
    "print(center_grid)"
   ]
  },
  {
   "cell_type": "code",
   "execution_count": 17,
   "id": "dd1d7554",
   "metadata": {},
   "outputs": [],
   "source": [
    "for t in years:\n",
    "    if t >0:\n",
    "        number_center = 0\n",
    "        for g in center_grid:\n",
    "            number_center += xp.Sum(x[i,g-1,t1] for i in types for t1 in years if t1<= t )\n",
    "        prob.addConstraint(number_center <= 100)\n"
   ]
  },
  {
   "cell_type": "code",
   "execution_count": 18,
   "id": "fd87d11a",
   "metadata": {},
   "outputs": [
    {
     "name": "stdout",
     "output_type": "stream",
     "text": [
      "[ 0.  0.  0.  0.  0.  0.  0.  0.  0.  0.  0.  0.  0.  0.  0.  0.  0.  0.\n",
      "  0.  0.  0.  0.  0.  0.  0.  0.  0.  0.  0.  0.  0.  0.  0.  0.  0.  0.\n",
      "  0.  0.  0.  0.  0.  0.  0.  0.  0.  0.  0.  0.  0.  0.  0.  0.  0.  0.\n",
      "  0.  0.  0.  0.  0.  0. 10.  0.  0.  0.  0.  0.  0.  0.  0.  0.  0.  0.\n",
      "  0.  0. 15. 20.  5.  0.  0.  0.  0.  0.  0.  0.  0.  0.  0. 15. 65. 30.\n",
      " 20.  0.  0.  0.  0.  0.  0.  0.  0.  0.  5. 15. 55. 15. 10.  5. 20.  0.\n",
      "  5.  0.  0.  0.  0.  0. 20. 25. 20.  0. 25.  0. 20.  0.  5.  0.  0.  0.\n",
      "  0.  0. 15.  0.  0.  0.  0. 20.  0.  0.  0.  0.  0.  0.  0.  0. 10.  5.\n",
      " 10. 25.  5.  5.  5.  0.  0.  0.  0.  0.  0.  5.  5.  0.  0.  5. 15.  5.\n",
      "  0.  5.  0.  0.  0.  0.  0.  0. 20. 15.  0.  0. 30. 45.  5.  5.  0.  0.\n",
      "  0.  0.  0. 10. 40. 75. 20. 10.  5.  0. 15. 15.  0.  0.  0.  0.  0. 10.\n",
      " 65. 90. 15. 15. 10.  0. 10.  5.  0.  0.  0.  0.  0.  0. 35. 45. 25.  5.\n",
      " 10.  0.  0.  0.  0.  0.  0.  0.  0.  0.  0. 50. 25. 30.  0.  0. 10.  5.\n",
      "  0.  0.  0.  0.  0.  0.  0.  5.  0.  0.  0. 10. 20.  5.  5.  0.  0.  0.\n",
      "  0.  0.  0.  0.  0.  0.  0.  0.  0.  0.  0.  0.  0.  0.  0.  0.  0.  0.\n",
      "  0.  5.  0.  0.  5.  0.  0.  0.  0.  0.  0.  0.  0.  0.  0.  5. 35.  5.\n",
      "  0.  5.  5.  0.  0.  0.  0.  0.  0.  0.  5.  0.  0.  0.  0.  0.  0.  0.\n",
      "  0.  0.  0.  0.  0.  0.  0.  0.  0. 15.  0.  0.  0.  0.  0.  0.  0.  0.\n",
      "  0.  0.  5. 10.  0.  0.  5.  0.  0.  0.  0.  0.  0.  0.  0.  0.  0.  5.\n",
      " 15.  0. 10.  0.  0.  0.  0.  0.  0.  0.  0.  0. 25.  5.  0.  0.  0.  0.\n",
      "  0.  0.  0.  0.  0.  0.  0.  0. 35.  0.  0.  0.  0.  0.  0.  0.  0.  0.\n",
      "  0.  0.  0.  5.  0.  0.  5.  0.  0.  0.  0.  0.  0.  0.  0.  0.  0.  0.\n",
      "  5.  0. 10. 15.  0.  0.  0.  0.  0.  0.  0.  0.  0.  0.  0.  5.  0.  0.\n",
      "  0.  0.  0.  0.  0.  0.  0.  0.  0.  0.  0.  0.  0.  0.  0.  0.  0.  0.\n",
      "  0.  0.]\n"
     ]
    }
   ],
   "source": [
    "B = Pg*5                          #需要求\n",
    "print(B)\n"
   ]
  },
  {
   "cell_type": "code",
   "execution_count": 19,
   "id": "038ab2a9",
   "metadata": {},
   "outputs": [],
   "source": [
    "# potential point location number < Bg # 我改了下，直接用y了\n",
    "for g in grids:\n",
    "    for t in years:\n",
    "        prob.addConstraint(y[g,t] <= B[g])"
   ]
  },
  {
   "cell_type": "code",
   "execution_count": 20,
   "id": "fb9a2d01",
   "metadata": {},
   "outputs": [],
   "source": [
    "# electricity demand 请问G‘怎么定义,我很迷茫，我暂时定义为他的邻居吧。。。。。。。。。。还有为什么突然有了个t‘，我很迷茫\n",
    "# 这里的formulation文件有两个公式，我看着好像是一个意思？代码部分写的是第一个公式\n",
    "neighbors = demand['NEIGHBORS']\n",
    "\n",
    "for g in grids:\n",
    "    neighbor = np.array(neighbors[g].strip('[]').split(','),dtype = 'int')\n",
    "    for t in years:\n",
    "        if t>0:\n",
    "            prob.addConstraint(xp.Sum(Pi1[i]*x[i,n-1,t1] for i in types for n in neighbor for t1 in years if t1<=t) >= 0.8*Dgt[g,t-1])\n",
    "for t in years:\n",
    "    if t>0:\n",
    "        prob.addConstraint(Pi1[i]*xp.Sum(x[i,g,t] for i in types for g in grids for t1 in years if t1<=t)>= 0.8*xp.Sum(Dgt[g,t-1] for g in grids))\n",
    "        "
   ]
  },
  {
   "cell_type": "code",
   "execution_count": 22,
   "id": "84936a11",
   "metadata": {},
   "outputs": [],
   "source": [
    "# interest point\n",
    "# 得到每个点interest point数\n",
    "M2 = 5\n",
    "M3 = 1000\n",
    "IG = intere_poi['grid number'].value_counts()\n",
    "IG2 = np.zeros(number_of_grids)\n",
    "for i in IG.index:\n",
    "    IG2[i-1] = IG[i]\n",
    "IG2\n",
    "for t in years:\n",
    "    if t>0:\n",
    "        for g in grids:\n",
    "         neighbor = np.array(neighbors[g].strip('[]').split(','),dtype = 'int')\n",
    "         for i in neighbor:\n",
    "            prob.addConstraint(xp.Sum(IG2[g1-1] for g1 in neighbor) >= z[g,t]*M2)\n",
    "\n",
    "\n",
    "    \n",
    "\n"
   ]
  },
  {
   "cell_type": "code",
   "execution_count": 23,
   "id": "54366450",
   "metadata": {},
   "outputs": [],
   "source": [
    "# Objective function\n",
    "prob.setObjective(xp.Sum(c[i]*x1[i,g,t] for i in types for g in grids for t in years) \n",
    "                  + xp.Sum(r[i] * x2[i,g,t] for i in types for g in grids for t in years),\n",
    "                 sense = xp.minimize)\n"
   ]
  },
  {
   "cell_type": "code",
   "execution_count": 24,
   "id": "2edc9809",
   "metadata": {},
   "outputs": [],
   "source": [
    "prob.write(\"problem\",\"lp\")"
   ]
  },
  {
   "cell_type": "code",
   "execution_count": 25,
   "id": "bdb95866",
   "metadata": {},
   "outputs": [
    {
     "name": "stdout",
     "output_type": "stream",
     "text": [
      "FICO Xpress v8.13.7, Hyper, solve started 2:06:14, Nov 28, 2022\n",
      "Heap usage: 2427MB (peak 2427MB, 1171MB system)\n",
      "Minimizing MILP charging using up to 16 threads, with these control settings:\n",
      "OUTPUTLOG = 1\n",
      "Original problem has:\n",
      "   9067832 rows        23870 cols     18382924 elements     23870 globals\n",
      " \n",
      " \n",
      "The problem is infeasible due to row R8305\n",
      "Presolve finished in 2 seconds\n",
      "Heap usage: 1960MB (peak 3920MB, 1171MB system)\n",
      " *** Search completed ***\n",
      "Problem is integer infeasible\n",
      "  Solution time / primaldual integral :         2s/ 100.000000%\n",
      "  Number of solutions found / nodes   :         0 /         0\n"
     ]
    }
   ],
   "source": [
    "prob.solve()"
   ]
  },
  {
   "cell_type": "code",
   "execution_count": null,
   "id": "25a425a0",
   "metadata": {},
   "outputs": [],
   "source": []
  }
 ],
 "metadata": {
  "kernelspec": {
   "display_name": "Python 3 (ipykernel)",
   "language": "python",
   "name": "python3"
  },
  "language_info": {
   "codemirror_mode": {
    "name": "ipython",
    "version": 3
   },
   "file_extension": ".py",
   "mimetype": "text/x-python",
   "name": "python",
   "nbconvert_exporter": "python",
   "pygments_lexer": "ipython3",
   "version": "3.9.13"
  },
  "vscode": {
   "interpreter": {
    "hash": "354fb722266689457ee49b084c2d6d7f431a22ef77b8e76260e58ffc2853e1e8"
   }
  }
 },
 "nbformat": 4,
 "nbformat_minor": 5
}
