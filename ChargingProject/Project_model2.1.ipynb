{
 "cells": [
  {
   "cell_type": "markdown",
   "id": "d129331a",
   "metadata": {},
   "source": [
    "# Charging Model"
   ]
  },
  {
   "cell_type": "markdown",
   "id": "74e768ca",
   "metadata": {},
   "source": [
    "## initialize set\n",
    "- import modules\n",
    "- set problems\n",
    "- set idnex\n",
    "- define variables\n",
    "- read data from files\n",
    "- define constants\n",
    "- handle the relationship between variables "
   ]
  },
  {
   "cell_type": "code",
   "execution_count": 22,
   "id": "9628475d",
   "metadata": {},
   "outputs": [],
   "source": [
    "# 导入模块\n",
    "import xpress as xp\n",
    "import numpy as np\n",
    "import pandas as pd"
   ]
  },
  {
   "cell_type": "code",
   "execution_count": 23,
   "id": "8163a358",
   "metadata": {},
   "outputs": [],
   "source": [
    "# Create a problem called myproblem\n",
    "\n",
    "prob = xp.problem(name='charging')"
   ]
  },
  {
   "cell_type": "code",
   "execution_count": 24,
   "id": "f75727fd",
   "metadata": {},
   "outputs": [],
   "source": [
    "# Set index\n",
    "number_of_types = 3 # i: 1..3\n",
    "types = range(number_of_types)\n",
    "\n",
    "number_of_years = 4 # Time t: 1..4 0..4\n",
    "years = range(number_of_years)\n",
    "number_of_years2 = number_of_years + 1\n",
    "years2 = range(number_of_years2)\n",
    "\n",
    "number_of_grids = 434 # grid g: 1..434\n",
    "grids = range(number_of_grids)\n"
   ]
  },
  {
   "cell_type": "code",
   "execution_count": 25,
   "id": "85ae882d",
   "metadata": {},
   "outputs": [],
   "source": [
    "# Define our decision variable as a numpy array\n",
    "# 设置变量\n",
    "x1 = np.array([xp.var( name='x1_{0}_{1}_{2}'.format(i+1,g+1,t+1),vartype = xp.integer)\n",
    "                    for i in types for g in grids for t in years], dtype=xp.npvar).reshape(number_of_types,number_of_grids,number_of_years)\n",
    "x2 = np.array([xp.var( name='x2_{0}_{1}_{2}'.format(i+1,g+1,t+1),vartype = xp.integer)\n",
    "                    for i in types for g in grids for t in years], dtype=xp.npvar).reshape(number_of_types,number_of_grids,number_of_years)\n",
    "x = np.array([xp.var( name='x_{0}_{1}_{2}'.format(i+1,g+1,t),vartype = xp.integer)\n",
    "                    for i in types for g in grids for t in range(number_of_years2)], dtype=xp.npvar).reshape(number_of_types,number_of_grids,number_of_years2)\n",
    "# x = x1 + x2\n",
    "z = np.array([xp.var( name='z_{0}_{1}'.format(g+1,t+1),vartype = xp.binary)\n",
    "                    for g in grids for t in years], dtype=xp.npvar).reshape(number_of_grids,number_of_years)\n",
    "\n",
    "y = np.array([xp.var( name='y_{0}_{1}'.format(g+1,t+1),vartype = xp.integer)\n",
    "                    for g in grids for t in years], dtype=xp.npvar).reshape(number_of_grids,number_of_years)\n",
    "# y_{g,t} = \\sum_{i = 1..3} (x_{i,g,0} + \\sum_{t<t}x_{i,g,t})\n",
    "# y: report3公式写的有点混乱，应该是在t年g方块所有的chrger\n",
    "prob.addVariable(x1,x2,x,y,z)"
   ]
  },
  {
   "cell_type": "code",
   "execution_count": 26,
   "id": "60056c37",
   "metadata": {},
   "outputs": [],
   "source": [
    "# read data from files\n",
    "pot_char_poi = pd.read_excel('Project_data/Potential_charging_points.xlsx')\n",
    "intere_poi = pd.read_excel('Project_data/Interest _points.xlsx')\n",
    "demand = pd.read_excel('Project_data/Demand_data.xlsx')\n",
    "char_poi =  pd.read_excel('Project_data/Charging_points.xlsx')\n"
   ]
  },
  {
   "cell_type": "code",
   "execution_count": 27,
   "id": "91b2183d",
   "metadata": {},
   "outputs": [],
   "source": [
    "#  Constant\n",
    "# 未打折的成本价格\n",
    "c = np.array(types) # building cost for charging point of type i\n",
    "c = [1,1,1] # 可以修改\n",
    "\n",
    "# 打折的成本价格\n",
    "r = np.array(types) # the reduced building cost for charging point of type i\n",
    "r = [0.8,0.8,0.8] # 可以修改\n",
    "\n",
    "# 每个grid的location数量限制\n",
    "B = np.array(grids) # the maximal number of location in the grid square g\n",
    "for i in B:\n",
    "    i = 3 # 可以修改\n",
    "    \n",
    "# 每location的charger上线\n",
    "A = 5 # 可以修改\n",
    "\n",
    "# A*B_{g}:the maximal number of charging points in the grid square g, where \n",
    "\n",
    "# 每种charger的最低比例要求\n",
    "L = np.array(types) # the lower bound of proportion for type i charging point\n",
    "L = [0.3,0.3,0.3] # 可以修改\n",
    "\n",
    "# 每种charger的最高限制\n",
    "U = np.array(types) # the Upper bound of proportion for type i charging point ????\n",
    "U = [0.7,0.7,0.7] # 可以修改\n",
    "\n",
    "# Mit = np.array(types) # the higher bound of proportion for type i charging point\n",
    "# Mit = [0.9,0.9,0.9]\n",
    "\n",
    "# 市中心的charger上限\n",
    "SP = 100 # maximal number of station points in the centre of city.\n",
    "\n",
    "# 总需求最低满足的限度\n",
    "TS = 0.9 # the satisfaction proportion of for the total demand\n",
    "\n",
    "# 被邻居和自己满足的需求下限\n",
    "MS = 0.8 # the proportion of for the demand provided by neighbor.\n",
    "\n",
    "# t年g方块的需求\n",
    "d = np.array((demand['Demand_0'],demand['Demand_1'],demand['Demand_2'],demand['Demand_3']))\n",
    "# demand for the grid g in year t\n",
    "\n",
    "# 每种charger提供的最低电量\n",
    "Pi1 = np.array(years) # the minimum demand type i can provide per year\n",
    "Pi1 = [2000,4000,30000]\n",
    "\n",
    "# 每种charger提供的最高电量\n",
    "Pi = np.array(years) # the maximum demand type i can provide per year \n",
    "Pi = [3500,5200,55000]\n",
    "\n",
    "# the number of charger point of type i which has been already established in the grid g\n",
    "char_poi['Type'].replace('Slow',0,inplace = True)\n",
    "char_poi['Type'].replace('Fast',1,inplace = True)\n",
    "char_poi['Type'].replace('Rapid',2,inplace = True)\n",
    "exist_charger = pd.DataFrame({'Type':char_poi['Type'],'Grid':char_poi['grid number']})\n",
    "w = np.zeros([number_of_types,number_of_grids])\n",
    "for g in grids:\n",
    "    if (g+1) in exist_charger['Grid']:\n",
    "        for i in types:\n",
    "            w[i][g] = exist_charger[(exist_charger.Type == i)&(exist_charger.Grid == (g+1))].count()[0]\n",
    "\n",
    "# 每个grid的potential location数量\n",
    "# Pg: the number of potential locations in the grid square\n",
    "pg = (pot_char_poi['grid number'].value_counts())\n",
    "Pg = np.zeros(number_of_grids) \n",
    "for i in pg.index:\n",
    "    Pg[i-1] = pg[i]"
   ]
  },
  {
   "cell_type": "code",
   "execution_count": 28,
   "id": "fec17930",
   "metadata": {},
   "outputs": [],
   "source": [
    "# relastion between variables and exist constants\n",
    "# 处理变量基本关系\n",
    "# x_{i,g,0}\n",
    "for i in types:\n",
    "    for g in grids:\n",
    "        if g+1 in list(char_poi['grid number']):\n",
    "            prob.addConstraint( x[i,g,0] == w[i,g])\n",
    "        else:\n",
    "            prob.addConstraint(x[i,g,0] == 0)"
   ]
  },
  {
   "cell_type": "markdown",
   "id": "5446a6e8",
   "metadata": {},
   "source": [
    "## Add Constraints"
   ]
  },
  {
   "cell_type": "code",
   "execution_count": 29,
   "id": "f87d86cf",
   "metadata": {},
   "outputs": [],
   "source": [
    "# constrain 1 \n",
    "# 每年每个grid的charger不能超过限制\n",
    "\n",
    "# prob.addConstraint(y[g,t] <= A*B[g] for g in grids for t in years)"
   ]
  },
  {
   "cell_type": "code",
   "execution_count": 30,
   "id": "646b2aae",
   "metadata": {},
   "outputs": [],
   "source": [
    "# constrian 2 限定市中心的charger数量\n",
    "# 市中心的定义方法：距离1000\n",
    "# DCenter = 1000\n",
    "# # grid_center = np.zeros((number_of_years,number_of_grids))\n",
    "# # for t in years:\n",
    "# #     grid_center_y = []\n",
    "# #     path = str('Demand_' + str(t))\n",
    "# #     grid_center_y = demand[demand[path]>=1000].index.tolist()\n",
    "# #     for i in range(len(grid_center_y)):\n",
    "# #         grid_center[t][i] = grid_center_y[i]\n",
    "# #     print('the ',t+1,' year, city center\\'s grid numbers',len(grid_center_y))\n",
    "# distance = demand['Distance from Centre'].copy()\n",
    "# distance.sort_values(inplace = True)\n",
    "# center = distance[distance <= DCenter]\n",
    "# center_grid = np.array(center.index)\n",
    "\n",
    "# # 这里注意，有个问题，不能让SP等于一个恒定的值，因为市中心范围有变化\n",
    "# prob.addConstraint((xp.Sum(y[int(g),t] for g in center_grid) <= SP) for t in years)  \n"
   ]
  },
  {
   "cell_type": "code",
   "execution_count": 31,
   "id": "89b2c52e",
   "metadata": {},
   "outputs": [],
   "source": [
    "# constrain 3\n",
    "# 每种类型的charger满足最高和最低的限制（charger多样化）\n",
    "# for i in types:\n",
    "#     for t in years2:\n",
    "#         if t>0:\n",
    "#             prob.addConstraint(L[i]*xp.Sum(x[i1,g,t1] for i1 in types for g in grids for t1 in years2 if t1<=t) <= \n",
    "#                           xp.Sum(x[i,g,t1] for g in grids for t1 in years2 if t1 <=t))\n",
    "#             prob.addConstraint(U[i]*xp.Sum(x[i1,g,t1] for i1 in types for g in grids for t1 in years2 if t1<=t) >= \n",
    "#                           xp.Sum(x[i,g,t1] for g in grids for t1 in years2 if t1<=t))\n"
   ]
  },
  {
   "cell_type": "code",
   "execution_count": 32,
   "id": "4ff834da",
   "metadata": {},
   "outputs": [],
   "source": [
    "# constrain 4\n",
    "# 总需求至少满足TS的范围\n",
    "\n",
    "# for t in years2:\n",
    "#     if t>0:\n",
    "#         prob.addConstraint(TS*np.sum(d[:][t-1]) \n",
    "# #                            <= ((2*Pi1[i]*xp.Sum(x[i,g,t1] for g in grids for t1 in years2 if t1<=t))for i in types))\n",
    "# TotalDemand = np.array([np.sum(d[:][0]),np.sum(d[:][1]),np.sum(d[:][2]),np.sum(d[:][3])])\n",
    "# prob.addConstraint(2*xp.Sum(Pi1[i]*xp.Sum(x[i,g,t1] for g in grids) \n",
    "#                           for i in types for t1 in years2 if t1<=t)>=TS*TotalDemand[t-1] for t in years2 if t>=1)\n"
   ]
  },
  {
   "cell_type": "code",
   "execution_count": 33,
   "id": "d1fd70a8",
   "metadata": {},
   "outputs": [],
   "source": [
    "# constraint 5\n",
    "# 被邻居满足的\n",
    "# neighbors = demand['NEIGHBORS']\n",
    "# for g in grids:\n",
    "#     neighbor = np.array(neighbors[g].strip('[]').split(','),dtype = 'int')\n",
    "#     neighbor = np.insert(neighbor,0,[int(demand['Ref'][g])])\n",
    "# #     prob.addConstraint(2*xp.Sum(Pi1[i]*xp.Sum(x[i,g1,t1] for g1 in neighbor) \n",
    "# #                           for i in types for t1 in years2 if t1<=t)>=MS*d[0][g] for t in years2 if t>=1)\n",
    "#     prob.addConstraint(xp.Sum(Pi1[i]*xp.Sum(x[i,n-1,t1] for n in neighbor) for i in types for t1 in years2 if t1<=t)\n",
    "#                       >= MS*d[t-1][g] for t in years2 if t >=1)\n",
    "\n",
    "\n"
   ]
  },
  {
   "cell_type": "code",
   "execution_count": 34,
   "id": "139a3b52",
   "metadata": {},
   "outputs": [],
   "source": [
    "# constraint 6\n",
    "# x = x1 + x2\n",
    "# prob.addConstraint(x[i,g,t+1] == x1[i,g,t] + x2[i,g,t] for i in types for g in grids for t in years)"
   ]
  },
  {
   "cell_type": "code",
   "execution_count": 35,
   "id": "a3c9d02e",
   "metadata": {},
   "outputs": [],
   "source": [
    "# constraint 7\n",
    "# x and y\n",
    "for g in grids:\n",
    "    prob.addConstraint(y[g,0] == xp.Sum((x[i,g,0]+x[i,g,1]) for i in types))\n",
    "    prob.addConstraint(y[g,1] == y[g,0] + xp.Sum((x[i,g,2]) for i in types))\n",
    "    prob.addConstraint(y[g,2] == y[g,1] + xp.Sum((x[i,g,3]) for i in types))\n",
    "    prob.addConstraint(y[g,3] == y[g,2] + xp.Sum((x[i,g,4]) for i in types))\n",
    "\n",
    "for t in years2:\n",
    "    if t >0:\n",
    "        for g in grids:\n",
    "            prob.addConstraint(y[g,t-1] == xp.Sum(x[i,g,t1] for i in types for t1 in years if t1<=t ))\n",
    "    else:\n",
    "        for g in grids:\n",
    "            prob.addConstraint(y[g,t] == 0 )"
   ]
  },
  {
   "cell_type": "code",
   "execution_count": 36,
   "id": "25ec158c",
   "metadata": {},
   "outputs": [],
   "source": [
    "# constraint 8\n",
    "# M = 1000\n",
    "# M = A*B[0]\n",
    "        \n",
    "# prob.addConstraint((1-z[g,t]) <= y[g,t] for g in grids for t in years)\n",
    "# prob.addConstraint(y[g,t] <= (1-z[g,t])*M for g in grids for t in years)\n",
    "# prob.addConstraint(x1[i,g,t] <= M*z[g,t] for i in types for g in grids for t in years)\n",
    "# prob.addConstraint(x2[i,g,t] <= M*(1-z[g,t]) for i in types for g in grids for t in years)\n"
   ]
  },
  {
   "cell_type": "code",
   "execution_count": 37,
   "id": "8eb740f1",
   "metadata": {},
   "outputs": [],
   "source": [
    "# constraint 9\n",
    "# 定义变量的时候已经写了"
   ]
  },
  {
   "cell_type": "code",
   "execution_count": 38,
   "id": "b7484534",
   "metadata": {},
   "outputs": [],
   "source": [
    "# constraint 10\n",
    "# >= 0\n",
    "# prob.addConstraint(x1[i,g,t] >= 0 for i in types for g in grids for t in years)\n",
    "# prob.addConstraint(x2[i,g,t] >= 0 for i in types for g in grids for t in years)\n",
    "# prob.addConstraint(y[g,t] >= 0 for g in grids for t in years)"
   ]
  },
  {
   "cell_type": "markdown",
   "id": "a1d794fb",
   "metadata": {},
   "source": [
    "## 问题解决"
   ]
  },
  {
   "cell_type": "code",
   "execution_count": 39,
   "id": "54366450",
   "metadata": {},
   "outputs": [],
   "source": [
    "# Objective function\n",
    "prob.setObjective(xp.Sum(c[i]*x1[i,g,t] for i in types for g in grids for t in years) \n",
    "                  + xp.Sum(r[i] * x2[i,g,t] for i in types for g in grids for t in years),\n",
    "                 sense = xp.minimize)"
   ]
  },
  {
   "cell_type": "code",
   "execution_count": 40,
   "id": "2edc9809",
   "metadata": {},
   "outputs": [],
   "source": [
    "prob.write(\"problem\",\"lp\")"
   ]
  },
  {
   "cell_type": "code",
   "execution_count": 41,
   "id": "bdb95866",
   "metadata": {},
   "outputs": [
    {
     "name": "stdout",
     "output_type": "stream",
     "text": [
      "FICO Xpress v8.13.7, Hyper, solve started 12:17:42, Nov 28, 2022\n",
      "Heap usage: 7436KB (peak 7436KB, 1922KB system)\n",
      "Minimizing MILP charging using up to 16 threads, with these control settings:\n",
      "OUTPUTLOG = 1\n",
      "Original problem has:\n",
      "      5208 rows        20398 cols        29946 elements     20398 globals\n",
      " \n",
      " \n",
      "The problem is infeasible due to row R23974\n",
      "Presolve finished in 0 seconds\n",
      "Heap usage: 6870KB (peak 11MB, 1922KB system)\n",
      " *** Search completed ***\n",
      "Problem is integer infeasible\n",
      "  Solution time / primaldual integral :         0s/ 100.000000%\n",
      "  Number of solutions found / nodes   :         0 /         0\n"
     ]
    }
   ],
   "source": [
    "prob.solve()"
   ]
  },
  {
   "cell_type": "code",
   "execution_count": 42,
   "id": "51051e51",
   "metadata": {},
   "outputs": [
    {
     "name": "stdout",
     "output_type": "stream",
     "text": [
      "1e+40\n"
     ]
    }
   ],
   "source": [
    "print(prob.getObjVal())"
   ]
  },
  {
   "cell_type": "markdown",
   "id": "7f9bb6c6",
   "metadata": {},
   "source": [
    "## 过往草稿"
   ]
  },
  {
   "cell_type": "code",
   "execution_count": null,
   "id": "75e3b7b5",
   "metadata": {},
   "outputs": [],
   "source": []
  }
 ],
 "metadata": {
  "kernelspec": {
   "display_name": "Python 3 (ipykernel)",
   "language": "python",
   "name": "python3"
  },
  "language_info": {
   "codemirror_mode": {
    "name": "ipython",
    "version": 3
   },
   "file_extension": ".py",
   "mimetype": "text/x-python",
   "name": "python",
   "nbconvert_exporter": "python",
   "pygments_lexer": "ipython3",
   "version": "3.9.13"
  },
  "vscode": {
   "interpreter": {
    "hash": "354fb722266689457ee49b084c2d6d7f431a22ef77b8e76260e58ffc2853e1e8"
   }
  }
 },
 "nbformat": 4,
 "nbformat_minor": 5
}
